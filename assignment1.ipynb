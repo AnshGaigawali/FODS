{
 "cells": [
  {
   "cell_type": "code",
   "execution_count": 1,
   "id": "41d7f063-00a9-43cc-8a0f-2f8482efa89a",
   "metadata": {},
   "outputs": [
    {
     "name": "stdout",
     "output_type": "stream",
     "text": [
      "This is a random txt file\n"
     ]
    }
   ],
   "source": [
    "with open('C:/Users/ML/Desktop/TYITA26/Assignment 1/Random.txt', 'r') as file:\n",
    "    content = file.read()\n",
    "print(content)"
   ]
  },
  {
   "cell_type": "code",
   "execution_count": 3,
   "id": "cbe81597-1cdb-4a40-ac52-55a4b61571ee",
   "metadata": {},
   "outputs": [],
   "source": [
    "with open('C:/Users/ML/Desktop/TYITA26/Assignment 1/Random.txt', 'w') as file:\n",
    "    file.write(\"Birju\")"
   ]
  },
  {
   "cell_type": "code",
   "execution_count": 5,
   "id": "b1816091-e9b1-4182-8672-931bf9105be6",
   "metadata": {},
   "outputs": [
    {
     "name": "stdout",
     "output_type": "stream",
     "text": [
      "    x1   x2   x3   x4         type\n",
      "0  5.1  3.5  1.4  0.2  Iris-setosa\n",
      "1  4.9  3.0  1.4  0.2  Iris-setosa\n",
      "2  4.7  3.2  1.3  0.2  Iris-setosa\n",
      "3  4.6  3.1  1.5  0.2  Iris-setosa\n",
      "4  5.0  3.6  1.4  0.2  Iris-setosa\n"
     ]
    }
   ],
   "source": [
    "import pandas as pd\n",
    "df = pd.read_csv('C:/Users/ML/Desktop/TYITA26/Assignment 1/iris.data.csv')\n",
    "print(df.head())"
   ]
  },
  {
   "cell_type": "code",
   "execution_count": 7,
   "id": "55583885-e190-4842-81d8-1c767a193442",
   "metadata": {},
   "outputs": [],
   "source": [
    "df.to_csv('C:/Users/ML/Desktop/TYITA26/Assignment 1/iris.data.csv', index=False)"
   ]
  },
  {
   "cell_type": "code",
   "execution_count": 9,
   "id": "86f4fa79-82b3-413b-8cf0-0dfdd70e06e4",
   "metadata": {},
   "outputs": [
    {
     "name": "stdout",
     "output_type": "stream",
     "text": [
      "person {}\n",
      "person {}\n",
      "book {}\n",
      "person {}\n",
      "person {}\n",
      "book {}\n",
      "person {}\n",
      "person {}\n",
      "book {}\n",
      "person {}\n",
      "person {}\n",
      "book {}\n",
      "person {}\n",
      "person {}\n",
      "book {}\n",
      "person {}\n",
      "person {}\n",
      "book {}\n",
      "person {}\n",
      "person {}\n",
      "book {}\n",
      "person {}\n",
      "person {}\n",
      "book {}\n"
     ]
    }
   ],
   "source": [
    "import xml.etree.ElementTree as ET\n",
    "tree = ET.parse('C:/Users/ML/Desktop/TYITA26/Assignment 1/sample.xml')\n",
    "root = tree.getroot()\n",
    "for child in root:\n",
    "    print(child.tag, child.attrib)"
   ]
  },
  {
   "cell_type": "code",
   "execution_count": 31,
   "id": "6ede6a1f-0e45-424f-aada-dde5cec862aa",
   "metadata": {},
   "outputs": [],
   "source": [
    "root = ET.Element(\"root\")\n",
    "child1 = ET.SubElement(root, \"child1\")\n",
    "child1.text = \"This is child 1\"\n",
    "tree = ET.ElementTree(root)\n",
    "tree.write('C:/Users/ML/Desktop/TYITA26/Assignment 1/sample.xml')"
   ]
  },
  {
   "cell_type": "code",
   "execution_count": 33,
   "id": "89a06bd1-7d04-494b-a7a3-48400d369140",
   "metadata": {},
   "outputs": [
    {
     "name": "stdout",
     "output_type": "stream",
     "text": [
      "TXT test file\n",
      "Purpose: Provide example of this file type\n",
      "Document file type: TXT\n",
      "Version: 1.0\n",
      "Remark:\n",
      "\n",
      "Example content:\n",
      "The names \"John Doe\" for males, \"Jane Doe\" or \"Jane Roe\" for females, or \"Jonnie Doe\" and \"Janie Doe\" for children, or just \"Doe\" non-gender-specifically are used as placeholder names for a party whose true identity is unknown or must be withheld in a legal action, case, or discussion. The names are also used to refer to acorpse or hospital patient whose identity is unknown. This practice is widely used in the United States and Canada, but is rarely used in other English-speaking countries including the United Kingdom itself, from where the use of \"John Doe\" in a legal context originates. The names Joe Bloggs or John Smith are used in the UK instead, as well as in Australia and New Zealand.\n",
      "\n",
      "John Doe is sometimes used to refer to a typical male in other contexts as well, in a similar manner to John Q. Public, known in Great Britain as Joe Public, John Smith or Joe Bloggs. For example, the first name listed on a form is often John Doe, along with a fictional address or other fictional information to provide an example of how to fill in the form. The name is also used frequently in popular culture, for example in the Frank Capra film Meet John Doe. John Doe was also the name of a 2002 American television series.\n",
      "\n",
      "Similarly, a child or baby whose identity is unknown may be referred to as Baby Doe. A notorious murder case in Kansas City, Missouri, referred to the baby victim as Precious Doe. Other unidentified female murder victims are Cali Doe and Princess Doe. Additional persons may be called James Doe, Judy Doe, etc. However, to avoid possible confusion, if two anonymous or unknown parties are cited in a specific case or action, the surnames Doe and Roe may be used simultaneously; for example, \"John Doe v. Jane Roe\". If several anonymous parties are referenced, they may simply be labelled John Doe #1, John Doe #2, etc. (the U.S. Operation Delego cited 21 (numbered) \"John Doe\"s) or labelled with other variants of Doe / Roe / Poe / etc. Other early alternatives such as John Stiles and Richard Miles are now rarely used, and Mary Major has been used in some American federal cases.\n",
      "\n",
      "\n",
      "\n",
      "File created by https://www.online-convert.com\n",
      "More example files: https://www.online-convert.com/file-type\n",
      "Text of Example content: Wikipedia (https://en.wikipedia.org/wiki/John_Doe)\n",
      "License: Attribution-ShareAlike 4.0 (https://creativecommons.org/licenses/by-sa/4.0/)\n",
      "\n",
      "Feel free to use and share the file according to the license above.\n"
     ]
    }
   ],
   "source": [
    "import requests\n",
    "url = 'https://example-files.online-convert.com/document/txt/example.txt'\n",
    "response = requests.get(url)\n",
    "content = response.text\n",
    "print(content)"
   ]
  },
  {
   "cell_type": "code",
   "execution_count": 35,
   "id": "88e0cc10-3086-430c-9eab-9a391813d860",
   "metadata": {},
   "outputs": [
    {
     "name": "stdout",
     "output_type": "stream",
     "text": [
      "   5.1  3.5  1.4  0.2  Iris-setosa\n",
      "0  4.9  3.0  1.4  0.2  Iris-setosa\n",
      "1  4.7  3.2  1.3  0.2  Iris-setosa\n",
      "2  4.6  3.1  1.5  0.2  Iris-setosa\n",
      "3  5.0  3.6  1.4  0.2  Iris-setosa\n",
      "4  5.4  3.9  1.7  0.4  Iris-setosa\n"
     ]
    }
   ],
   "source": [
    "url = 'https://archive.ics.uci.edu/ml/machine-learning-databases/iris/iris.data'\n",
    "df = pd.read_csv(url)\n",
    "print(df.head())"
   ]
  },
  {
   "cell_type": "code",
   "execution_count": 37,
   "id": "6101bef2-0436-4976-8f3e-96e45164f31d",
   "metadata": {},
   "outputs": [
    {
     "name": "stdout",
     "output_type": "stream",
     "text": [
      "to {}\n",
      "from {}\n",
      "heading {}\n",
      "body {}\n"
     ]
    }
   ],
   "source": [
    "url = 'https://www.w3schools.com/xml/note.xml'\n",
    "response = requests.get(url)\n",
    "response.raise_for_status()  \n",
    "root = ET.fromstring(response.content)\n",
    "for child in root:\n",
    "    print(child.tag, child.attrib)\n",
    "    for subchild in child:\n",
    "        print(f'  {subchild.tag} -> {subchild.text}')"
   ]
  },
  {
   "cell_type": "code",
   "execution_count": 39,
   "id": "9b74a29e-7296-4905-9352-6cab242c8e0c",
   "metadata": {},
   "outputs": [],
   "source": [
    "import os\n",
    "directory = 'C:/Users/ML/Desktop/TYITA26/Assignment 1'\n",
    "if not os.path.exists(directory):\n",
    "    os.makedirs(directory)"
   ]
  },
  {
   "cell_type": "code",
   "execution_count": 41,
   "id": "cc13311e-882d-408d-9ef2-8431c9ce9150",
   "metadata": {},
   "outputs": [],
   "source": [
    "path = 'C:/Users/ML/Desktop/TYITA26/Assignment 1/rand.txt'\n",
    "with open(path, 'w') as file:\n",
    "    file.write(\"Your content here\")"
   ]
  }
 ],
 "metadata": {
  "kernelspec": {
   "display_name": "Python 3 (ipykernel)",
   "language": "python",
   "name": "python3"
  },
  "language_info": {
   "codemirror_mode": {
    "name": "ipython",
    "version": 3
   },
   "file_extension": ".py",
   "mimetype": "text/x-python",
   "name": "python",
   "nbconvert_exporter": "python",
   "pygments_lexer": "ipython3",
   "version": "3.12.4"
  }
 },
 "nbformat": 4,
 "nbformat_minor": 5
}
