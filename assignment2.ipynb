{
 "cells": [
  {
   "cell_type": "code",
   "execution_count": 15,
   "id": "0d014712-4889-4a6b-968c-601f84b5cd7e",
   "metadata": {},
   "outputs": [],
   "source": [
    "import pandas as pd\n",
    "import numpy as np\n",
    "from scipy import stats\n",
    "import seaborn as sns\n",
    "import matplotlib.pyplot as plt"
   ]
  },
  {
   "cell_type": "code",
   "execution_count": 17,
   "id": "4ae8201f-c212-4da7-8e09-532a45713c03",
   "metadata": {},
   "outputs": [],
   "source": [
    "iris = sns.load_dataset('iris')"
   ]
  },
  {
   "cell_type": "code",
   "execution_count": 19,
   "id": "3d433a6c-e3ef-4522-94bf-dced1d91af8c",
   "metadata": {},
   "outputs": [
    {
     "name": "stdout",
     "output_type": "stream",
     "text": [
      "First few rows of the Iris dataset:\n",
      "   sepal_length  sepal_width  petal_length  petal_width species\n",
      "0           5.1          3.5           1.4          0.2  setosa\n",
      "1           4.9          3.0           1.4          0.2  setosa\n",
      "2           4.7          3.2           1.3          0.2  setosa\n",
      "3           4.6          3.1           1.5          0.2  setosa\n",
      "4           5.0          3.6           1.4          0.2  setosa\n"
     ]
    }
   ],
   "source": [
    "print(\"First few rows of the Iris dataset:\")\n",
    "print(iris.head())"
   ]
  },
  {
   "cell_type": "code",
   "execution_count": 21,
   "id": "ad35c9b5-899e-4f03-9253-2659a3966eb6",
   "metadata": {},
   "outputs": [
    {
     "name": "stdout",
     "output_type": "stream",
     "text": [
      "\n",
      "Summary Statistics:\n",
      "       sepal_length  sepal_width  petal_length  petal_width\n",
      "count    150.000000   150.000000    150.000000   150.000000\n",
      "mean       5.843333     3.057333      3.758000     1.199333\n",
      "std        0.828066     0.435866      1.765298     0.762238\n",
      "min        4.300000     2.000000      1.000000     0.100000\n",
      "25%        5.100000     2.800000      1.600000     0.300000\n",
      "50%        5.800000     3.000000      4.350000     1.300000\n",
      "75%        6.400000     3.300000      5.100000     1.800000\n",
      "max        7.900000     4.400000      6.900000     2.500000\n"
     ]
    }
   ],
   "source": [
    "summary_stats = iris.describe()\n",
    "print(\"\\nSummary Statistics:\")\n",
    "print(summary_stats)"
   ]
  },
  {
   "cell_type": "code",
   "execution_count": 23,
   "id": "74f29b8c-9c3f-4de4-a121-81303ccef54d",
   "metadata": {},
   "outputs": [],
   "source": [
    "def additional_statistics(df):\n",
    "    stats_dict = {}\n",
    "    stats_dict['Mean'] = df.mean()\n",
    "    stats_dict['Median'] = df.median()\n",
    "    stats_dict['Mode'] = df.mode().iloc[0]\n",
    "    stats_dict['Variance'] = df.var()\n",
    "    stats_dict['Standard Deviation'] = df.std()\n",
    "    stats_dict['1st Quartile (25%)'] = df.quantile(0.25)\n",
    "    stats_dict['2nd Quartile (50%)'] = df.quantile(0.50)  \n",
    "    stats_dict['3rd Quartile (75%)'] = df.quantile(0.75)\n",
    "    stats_dict['Range'] = df.max() - df.min()\n",
    "    stats_dict['IQR'] = stats_dict['3rd Quartile (75%)'] - stats_dict['1st Quartile (25%)']\n",
    "    return pd.DataFrame(stats_dict)"
   ]
  },
  {
   "cell_type": "code",
   "execution_count": 25,
   "id": "506cb9eb-40cc-4d0f-a563-a5faab2525f0",
   "metadata": {},
   "outputs": [
    {
     "name": "stdout",
     "output_type": "stream",
     "text": [
      "\n",
      "Additional Statistics:\n",
      "                  Mean  Median  Mode  Variance  Standard Deviation  \\\n",
      "sepal_length  5.843333    5.80   5.0  0.685694            0.828066   \n",
      "sepal_width   3.057333    3.00   3.0  0.189979            0.435866   \n",
      "petal_length  3.758000    4.35   1.4  3.116278            1.765298   \n",
      "petal_width   1.199333    1.30   0.2  0.581006            0.762238   \n",
      "\n",
      "              1st Quartile (25%)  2nd Quartile (50%)  3rd Quartile (75%)  \\\n",
      "sepal_length                 5.1                5.80                 6.4   \n",
      "sepal_width                  2.8                3.00                 3.3   \n",
      "petal_length                 1.6                4.35                 5.1   \n",
      "petal_width                  0.3                1.30                 1.8   \n",
      "\n",
      "              Range  IQR  \n",
      "sepal_length    3.6  1.3  \n",
      "sepal_width     2.4  0.5  \n",
      "petal_length    5.9  3.5  \n",
      "petal_width     2.4  1.5  \n"
     ]
    }
   ],
   "source": [
    "additional_stats = additional_statistics(iris.drop(columns='species'))\n",
    "print(\"\\nAdditional Statistics:\")\n",
    "print(additional_stats)"
   ]
  },
  {
   "cell_type": "code",
   "execution_count": 27,
   "id": "12b11767-7ab9-435b-894f-06730c9a1256",
   "metadata": {},
   "outputs": [
    {
     "name": "stdout",
     "output_type": "stream",
     "text": [
      "\n",
      "Skewness and Kurtosis:\n",
      "sepal_length:\n",
      "  Skewness: 0.3117530585022963\n",
      "  Kurtosis: -0.5735679489249765\n",
      "sepal_width:\n",
      "  Skewness: 0.31576710633893473\n",
      "  Kurtosis: 0.18097631752246768\n",
      "petal_length:\n",
      "  Skewness: -0.2721276664567214\n",
      "  Kurtosis: -1.3955358863990055\n",
      "petal_width:\n",
      "  Skewness: -0.10193420656560036\n",
      "  Kurtosis: -1.336067405231553\n"
     ]
    }
   ],
   "source": [
    "print(\"\\nSkewness and Kurtosis:\")\n",
    "for column in iris.columns[:-1]:  \n",
    "    print(f\"{column}:\")\n",
    "    print(f\"  Skewness: {stats.skew(iris[column])}\")\n",
    "    print(f\"  Kurtosis: {stats.kurtosis(iris[column])}\")"
   ]
  },
  {
   "cell_type": "code",
   "execution_count": 29,
   "id": "4bd15d0a-ecd2-424b-96bc-68fc53aec7a7",
   "metadata": {},
   "outputs": [
    {
     "data": {
      "image/png": "[encoded data removed]",
      "text/plain": [
       "<Figure size 1000x600 with 1 Axes>"
      ]
     },
     "metadata": {},
     "output_type": "display_data"
    }
   ],
   "source": [
    "plt.figure(figsize=(10, 6))\n",
    "sns.boxplot(data=iris, x='species', y='sepal_length')\n",
    "plt.title('Boxplot of Sepal Length by Species')\n",
    "plt.show()"
   ]
  }
 ],
 "metadata": {
  "kernelspec": {
   "display_name": "Python 3 (ipykernel)",
   "language": "python",
   "name": "python3"
  },
  "language_info": {
   "codemirror_mode": {
    "name": "ipython",
    "version": 3
   },
   "file_extension": ".py",
   "mimetype": "text/x-python",
   "name": "python",
   "nbconvert_exporter": "python",
   "pygments_lexer": "ipython3",
   "version": "3.12.4"
  }
 },
 "nbformat": 4,
 "nbformat_minor": 5
}
